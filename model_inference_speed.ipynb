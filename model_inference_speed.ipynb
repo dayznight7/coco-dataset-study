{
 "cells": [
  {
   "cell_type": "code",
   "execution_count": 1,
   "id": "df34738a-8815-4745-81d8-6167601d98f4",
   "metadata": {},
   "outputs": [
    {
     "name": "stderr",
     "output_type": "stream",
     "text": [
      "Using cache found in C:\\Users\\avdc/.cache\\torch\\hub\\facebookresearch_detr_main\n",
      "C:\\Users\\avdc\\anaconda3\\envs\\py310\\lib\\site-packages\\torchvision\\models\\_utils.py:208: UserWarning: The parameter 'pretrained' is deprecated since 0.13 and may be removed in the future, please use 'weights' instead.\n",
      "  warnings.warn(\n",
      "C:\\Users\\avdc\\anaconda3\\envs\\py310\\lib\\site-packages\\torchvision\\models\\_utils.py:223: UserWarning: Arguments other than a weight enum or `None` for 'weights' are deprecated since 0.13 and may be removed in the future. The current behavior is equivalent to passing `weights=ResNet50_Weights.IMAGENET1K_V1`. You can also use `weights=ResNet50_Weights.DEFAULT` to get the most up-to-date weights.\n",
      "  warnings.warn(msg)\n"
     ]
    },
    {
     "name": "stdout",
     "output_type": "stream",
     "text": [
      "loading annotations into memory...\n",
      "Done (t=0.45s)\n",
      "creating index...\n",
      "index created!\n",
      "Elapsed time on GPU: 182.82191467285156 ms\n"
     ]
    }
   ],
   "source": [
    "import torch\n",
    "import torchvision.transforms as T\n",
    "from PIL import Image\n",
    "import requests\n",
    "from pycocotools.coco import COCO\n",
    "import os\n",
    "import time\n",
    "import sys\n",
    "\n",
    "# DETR 모델 로드\n",
    "model = torch.hub.load('facebookresearch/detr', 'detr_resnet50', pretrained=True)\n",
    "model.eval()\n",
    "device = torch.device(\"cuda\" if torch.cuda.is_available() else \"cpu\")\n",
    "model.to(device)\n",
    "start_event = torch.cuda.Event(enable_timing=True)\n",
    "end_event = torch.cuda.Event(enable_timing=True)\n",
    "\n",
    "# 이미지 변환 함수 (DETR에 맞게 변환)\n",
    "transform = T.Compose([\n",
    "    T.Resize(800),  # DETR 모델은 800px 크기로 입력\n",
    "    T.ToTensor(),\n",
    "])\n",
    "\n",
    "# COCO 데이터셋 로드\n",
    "data_dir = \"coco\"\n",
    "ann_file = \"coco/annotations/instances_val2017.json\"\n",
    "coco = COCO(ann_file)\n",
    "\n",
    "# 첫 번째 이미지 선택\n",
    "img_ids = coco.getImgIds()\n",
    "img_info = coco.loadImgs(img_ids[0])[0]\n",
    "img_path = os.path.join(data_dir, \"val2017\", img_info[\"file_name\"])\n",
    "\n",
    "# 이미지 로드 및 변환\n",
    "image = Image.open(img_path).convert(\"RGB\")\n",
    "img_tensor = transform(image).unsqueeze(0).to(device)  # 배치 차원 추가\n",
    "\n",
    "# 모델 추론\n",
    "with torch.no_grad():\n",
    "    start_event.record()\n",
    "    outputs = model(img_tensor)\n",
    "    end_event.record()\n",
    "\n",
    "# 출력 확인\n",
    "# print(\"Model Outputs:\", outputs)\n",
    "time_taken = start_event.elapsed_time(end_event)\n",
    "print(f'Elapsed time on GPU: {time_taken} ms')"
   ]
  },
  {
   "cell_type": "code",
   "execution_count": null,
   "id": "aa353b80-b396-4201-b6ef-b864d45eaed7",
   "metadata": {},
   "outputs": [],
   "source": []
  }
 ],
 "metadata": {
  "kernelspec": {
   "display_name": "py310",
   "language": "python",
   "name": "py310"
  },
  "language_info": {
   "codemirror_mode": {
    "name": "ipython",
    "version": 3
   },
   "file_extension": ".py",
   "mimetype": "text/x-python",
   "name": "python",
   "nbconvert_exporter": "python",
   "pygments_lexer": "ipython3",
   "version": "3.10.11"
  }
 },
 "nbformat": 4,
 "nbformat_minor": 5
}
