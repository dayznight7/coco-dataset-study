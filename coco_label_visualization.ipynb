{
 "cells": [
  {
   "cell_type": "code",
   "execution_count": null,
   "id": "150d5523-baa1-430b-8758-823671a8152c",
   "metadata": {},
   "outputs": [],
   "source": [
    "# coco 데이터셋 라벨 시각화"
   ]
  },
  {
   "cell_type": "code",
   "execution_count": 1,
   "id": "84f1f7ad-78ab-422d-9d70-fa20d14ff3db",
   "metadata": {},
   "outputs": [
    {
     "name": "stdout",
     "output_type": "stream",
     "text": [
      "loading annotations into memory...\n",
      "Done (t=0.46s)\n",
      "creating index...\n",
      "index created!\n"
     ]
    }
   ],
   "source": [
    "import cv2\n",
    "import numpy as np\n",
    "from pycocotools import mask as maskUtils\n",
    "from torchvision.datasets import CocoDetection\n",
    "import random\n",
    " \n",
    "# 데이터셋 경로 설정\n",
    "data_dir = 'coco/val2017'\n",
    "Caption_file = 'coco/annotations/captions_val2017.json' #Caption\n",
    "instances_file = 'coco/annotations/instances_val2017.json' #Segmentation, category_id, bbox\n",
    "keypoints_file = 'coco/annotations/person_keypoints_val2017.json' #Segmentation, keypoints, id, bbox\n",
    " \n",
    "# 데이터셋 로드\n",
    "dataset = CocoDetection(root=data_dir, annFile=instances_file)\n",
    "coco = dataset.coco\n",
    " \n",
    "# 색상 목록\n",
    "colors = []\n",
    "for _ in range(50):\n",
    "    color = [random.randint(0, 255), random.randint(0, 255), random.randint(0, 255)]\n",
    "    colors.append(color)\n",
    " \n",
    "# 이미지와 인스턴스 정보 가져오기\n",
    "for i in range(len(dataset)):\n",
    "    image, target = dataset[i]\n",
    " \n",
    "    # 이미지 시각화\n",
    "    image = np.array(image)\n",
    "    image = cv2.cvtColor(image, cv2.COLOR_RGB2BGR)\n",
    " \n",
    "    # 인스턴스 정보 가져오기\n",
    "    for obj in target:\n",
    "        segmentation = obj[\"segmentation\"]\n",
    "        bbox = obj[\"bbox\"]\n",
    "        category_id = obj[\"category_id\"]\n",
    " \n",
    "        color = colors[category_id % len(colors)]\n",
    "        color_bgr = color[::-1]  # Convert RGB to BGR\n",
    " \n",
    "        # 바운딩 박스 시각화\n",
    "        bbox = [int(coord) for coord in bbox]\n",
    "        cv2.rectangle(image, (bbox[0], bbox[1]), (bbox[0] + bbox[2], bbox[1] + bbox[3]), color_bgr, 2)\n",
    " \n",
    "        #segmentation이 유효한지 확인\n",
    "        if isinstance(segmentation, list):\n",
    "            h, w = image.shape[:2]\n",
    " \n",
    "            mask = np.zeros((h, w), dtype=np.uint8)\n",
    "            for seg in segmentation:\n",
    "                poly = np.array(seg).reshape((-1, 2)).astype(np.int32)\n",
    "                cv2.fillPoly(mask, [poly], 255) # color is not specified here\n",
    " \n",
    "            mask_color = np.stack([mask]*3, axis=-1)\n",
    "            for i in range(3):\n",
    "                mask_color[..., i][mask_color[..., i] == 255] = color[i]  # Use RGB color for mask\n",
    " \n",
    "            alpha = ((mask_color > 0).max(axis=2) * 128).astype(np.uint8)\n",
    "            rgba_mask = np.concatenate([mask_color, alpha[:, :, np.newaxis]], axis=2)\n",
    " \n",
    "            image_rgba = cv2.cvtColor(image, cv2.COLOR_BGR2RGBA)\n",
    "            image_rgba = cv2.addWeighted(image_rgba, 1, rgba_mask, 0.5, 0)\n",
    " \n",
    "            image = cv2.cvtColor(image_rgba, cv2.COLOR_RGBA2BGR)\n",
    " \n",
    "        # 클래스 이름 가져오기\n",
    "        cat_id = coco.getCatIds(catIds=[category_id])\n",
    "        cat_name = coco.loadCats(cat_id)[0]['name']\n",
    " \n",
    "        # 클래스 이름 시각화\n",
    "        cv2.putText(image, cat_name, (bbox[0], bbox[1] - 10), cv2.FONT_HERSHEY_SIMPLEX, 0.5, color_bgr, 2)\n",
    " \n",
    " \n",
    " \n",
    "    # 이미지 출력\n",
    "    cv2.imshow('Image', image)\n",
    "    if cv2.waitKey(0) == ord('q'):\n",
    "        break\n",
    " \n",
    "cv2.destroyAllWindows()"
   ]
  },
  {
   "cell_type": "code",
   "execution_count": null,
   "id": "dc7a60d3-fdad-4bd5-a078-0eb75aead819",
   "metadata": {},
   "outputs": [],
   "source": []
  }
 ],
 "metadata": {
  "kernelspec": {
   "display_name": "py310",
   "language": "python",
   "name": "py310"
  },
  "language_info": {
   "codemirror_mode": {
    "name": "ipython",
    "version": 3
   },
   "file_extension": ".py",
   "mimetype": "text/x-python",
   "name": "python",
   "nbconvert_exporter": "python",
   "pygments_lexer": "ipython3",
   "version": "3.10.11"
  }
 },
 "nbformat": 4,
 "nbformat_minor": 5
}
